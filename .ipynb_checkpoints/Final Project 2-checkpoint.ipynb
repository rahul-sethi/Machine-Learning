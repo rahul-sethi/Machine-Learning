{
 "cells": [
  {
   "cell_type": "markdown",
   "metadata": {
    "collapsed": true
   },
   "source": [
    "## Import Initial Libraries and Settings\n"
   ]
  },
  {
   "cell_type": "code",
   "execution_count": 155,
   "metadata": {},
   "outputs": [],
   "source": [
    "import pandas as pd\n",
    "import numpy as np\n",
    "import os\n",
    "import seaborn as sns\n",
    "from IPython.core.display import Image, display\n",
    "import matplotlib.pyplot as plt"
   ]
  },
  {
   "cell_type": "markdown",
   "metadata": {
    "collapsed": true
   },
   "source": [
    "## Reading Data \n"
   ]
  },
  {
   "cell_type": "code",
   "execution_count": 156,
   "metadata": {},
   "outputs": [],
   "source": [
    "import pandas as pd \n",
    "import numpy as np\n",
    "import csv\n",
    "\n",
    "\n",
    "pokemon = pd.read_csv(\"pokemon.csv\")\n"
   ]
  },
  {
   "cell_type": "markdown",
   "metadata": {},
   "source": [
    "## Data Preperation for Classification"
   ]
  },
  {
   "cell_type": "code",
   "execution_count": 157,
   "metadata": {},
   "outputs": [
    {
     "name": "stdout",
     "output_type": "stream",
     "text": [
      "<class 'pandas.core.frame.DataFrame'>\n",
      "RangeIndex: 800 entries, 0 to 799\n",
      "Data columns (total 11 columns):\n",
      "id           800 non-null int64\n",
      "Name         799 non-null object\n",
      "Type 1       800 non-null object\n",
      "Type 2       800 non-null object\n",
      "HP           800 non-null int64\n",
      "Attack       800 non-null int64\n",
      "Defense      800 non-null int64\n",
      "Sp. Atk      800 non-null int64\n",
      "Sp. Def      800 non-null int64\n",
      "Speed        800 non-null int64\n",
      "Legendary    800 non-null bool\n",
      "dtypes: bool(1), int64(7), object(3)\n",
      "memory usage: 53.9+ KB\n"
     ]
    }
   ],
   "source": [
    "# Cleaning and imputing missing values\n",
    "pokemon.drop(['Generation'],inplace=True,axis=1)\n",
    "pokemon.rename(columns={'#':'id'},inplace=True)\n",
    "#filling NA with None\n",
    "pokemon['Type 2'] = pokemon['Type 2'].fillna('None')\n",
    "#Checking info of the dataset\n",
    "pokemon.info()"
   ]
  },
  {
   "cell_type": "code",
   "execution_count": 158,
   "metadata": {},
   "outputs": [
    {
     "data": {
      "text/html": [
       "<div>\n",
       "<style scoped>\n",
       "    .dataframe tbody tr th:only-of-type {\n",
       "        vertical-align: middle;\n",
       "    }\n",
       "\n",
       "    .dataframe tbody tr th {\n",
       "        vertical-align: top;\n",
       "    }\n",
       "\n",
       "    .dataframe thead th {\n",
       "        text-align: right;\n",
       "    }\n",
       "</style>\n",
       "<table border=\"1\" class=\"dataframe\">\n",
       "  <thead>\n",
       "    <tr style=\"text-align: right;\">\n",
       "      <th></th>\n",
       "      <th>id</th>\n",
       "      <th>Name</th>\n",
       "      <th>Type 1</th>\n",
       "      <th>Type 2</th>\n",
       "      <th>HP</th>\n",
       "      <th>Attack</th>\n",
       "      <th>Defense</th>\n",
       "      <th>Sp. Atk</th>\n",
       "      <th>Sp. Def</th>\n",
       "      <th>Speed</th>\n",
       "      <th>Legendary</th>\n",
       "    </tr>\n",
       "  </thead>\n",
       "  <tbody>\n",
       "    <tr>\n",
       "      <th>0</th>\n",
       "      <td>1</td>\n",
       "      <td>Bulbasaur</td>\n",
       "      <td>Grass</td>\n",
       "      <td>Poison</td>\n",
       "      <td>45</td>\n",
       "      <td>49</td>\n",
       "      <td>49</td>\n",
       "      <td>65</td>\n",
       "      <td>65</td>\n",
       "      <td>45</td>\n",
       "      <td>False</td>\n",
       "    </tr>\n",
       "    <tr>\n",
       "      <th>1</th>\n",
       "      <td>2</td>\n",
       "      <td>Ivysaur</td>\n",
       "      <td>Grass</td>\n",
       "      <td>Poison</td>\n",
       "      <td>60</td>\n",
       "      <td>62</td>\n",
       "      <td>63</td>\n",
       "      <td>80</td>\n",
       "      <td>80</td>\n",
       "      <td>60</td>\n",
       "      <td>False</td>\n",
       "    </tr>\n",
       "    <tr>\n",
       "      <th>2</th>\n",
       "      <td>3</td>\n",
       "      <td>Venusaur</td>\n",
       "      <td>Grass</td>\n",
       "      <td>Poison</td>\n",
       "      <td>80</td>\n",
       "      <td>82</td>\n",
       "      <td>83</td>\n",
       "      <td>100</td>\n",
       "      <td>100</td>\n",
       "      <td>80</td>\n",
       "      <td>False</td>\n",
       "    </tr>\n",
       "    <tr>\n",
       "      <th>3</th>\n",
       "      <td>4</td>\n",
       "      <td>Mega Venusaur</td>\n",
       "      <td>Grass</td>\n",
       "      <td>Poison</td>\n",
       "      <td>80</td>\n",
       "      <td>100</td>\n",
       "      <td>123</td>\n",
       "      <td>122</td>\n",
       "      <td>120</td>\n",
       "      <td>80</td>\n",
       "      <td>False</td>\n",
       "    </tr>\n",
       "    <tr>\n",
       "      <th>4</th>\n",
       "      <td>5</td>\n",
       "      <td>Charmander</td>\n",
       "      <td>Fire</td>\n",
       "      <td>None</td>\n",
       "      <td>39</td>\n",
       "      <td>52</td>\n",
       "      <td>43</td>\n",
       "      <td>60</td>\n",
       "      <td>50</td>\n",
       "      <td>65</td>\n",
       "      <td>False</td>\n",
       "    </tr>\n",
       "  </tbody>\n",
       "</table>\n",
       "</div>"
      ],
      "text/plain": [
       "   id           Name Type 1  Type 2  HP  Attack  Defense  Sp. Atk  Sp. Def  \\\n",
       "0   1      Bulbasaur  Grass  Poison  45      49       49       65       65   \n",
       "1   2        Ivysaur  Grass  Poison  60      62       63       80       80   \n",
       "2   3       Venusaur  Grass  Poison  80      82       83      100      100   \n",
       "3   4  Mega Venusaur  Grass  Poison  80     100      123      122      120   \n",
       "4   5     Charmander   Fire    None  39      52       43       60       50   \n",
       "\n",
       "   Speed  Legendary  \n",
       "0     45      False  \n",
       "1     60      False  \n",
       "2     80      False  \n",
       "3     80      False  \n",
       "4     65      False  "
      ]
     },
     "execution_count": 158,
     "metadata": {},
     "output_type": "execute_result"
    }
   ],
   "source": [
    "#We can see there is 1 name missing from the dataset\n",
    "#After searching the internet,found out that the Name is Primape\n",
    "#replacing the NAN with Primape\n",
    "\n",
    "pokemon['Name'] = pokemon['Name'].fillna('Primeape')\n",
    "\n",
    "#some type is named 'Fight', and some named 'Fighting'. This code is to clean it up.\n",
    "pokemon['Type 1'] = pokemon['Type 1'].replace('Fighting', 'Fight')\n",
    "pokemon['Type 2'] = pokemon['Type 2'].replace('Fighting', 'Fight')\n",
    "\n",
    "\n",
    "pokemon_df = pokemon.copy()\n",
    "\n",
    "#final Pokemon Dataset\n",
    "pokemon.head()\n",
    "\n"
   ]
  },
  {
   "cell_type": "code",
   "execution_count": 159,
   "metadata": {},
   "outputs": [
    {
     "data": {
      "text/html": [
       "<div>\n",
       "<style scoped>\n",
       "    .dataframe tbody tr th:only-of-type {\n",
       "        vertical-align: middle;\n",
       "    }\n",
       "\n",
       "    .dataframe tbody tr th {\n",
       "        vertical-align: top;\n",
       "    }\n",
       "\n",
       "    .dataframe thead th {\n",
       "        text-align: right;\n",
       "    }\n",
       "</style>\n",
       "<table border=\"1\" class=\"dataframe\">\n",
       "  <thead>\n",
       "    <tr style=\"text-align: right;\">\n",
       "      <th></th>\n",
       "      <th>Name</th>\n",
       "      <th>Type 1</th>\n",
       "      <th>HP</th>\n",
       "      <th>Attack</th>\n",
       "      <th>Defense</th>\n",
       "      <th>Sp. Atk</th>\n",
       "      <th>Sp. Def</th>\n",
       "      <th>Speed</th>\n",
       "      <th>Legendary</th>\n",
       "    </tr>\n",
       "  </thead>\n",
       "  <tbody>\n",
       "    <tr>\n",
       "      <th>0</th>\n",
       "      <td>Bulbasaur</td>\n",
       "      <td>Grass</td>\n",
       "      <td>45</td>\n",
       "      <td>49</td>\n",
       "      <td>49</td>\n",
       "      <td>65</td>\n",
       "      <td>65</td>\n",
       "      <td>45</td>\n",
       "      <td>False</td>\n",
       "    </tr>\n",
       "    <tr>\n",
       "      <th>1</th>\n",
       "      <td>Ivysaur</td>\n",
       "      <td>Grass</td>\n",
       "      <td>60</td>\n",
       "      <td>62</td>\n",
       "      <td>63</td>\n",
       "      <td>80</td>\n",
       "      <td>80</td>\n",
       "      <td>60</td>\n",
       "      <td>False</td>\n",
       "    </tr>\n",
       "    <tr>\n",
       "      <th>2</th>\n",
       "      <td>Venusaur</td>\n",
       "      <td>Grass</td>\n",
       "      <td>80</td>\n",
       "      <td>82</td>\n",
       "      <td>83</td>\n",
       "      <td>100</td>\n",
       "      <td>100</td>\n",
       "      <td>80</td>\n",
       "      <td>False</td>\n",
       "    </tr>\n",
       "    <tr>\n",
       "      <th>3</th>\n",
       "      <td>Mega Venusaur</td>\n",
       "      <td>Grass</td>\n",
       "      <td>80</td>\n",
       "      <td>100</td>\n",
       "      <td>123</td>\n",
       "      <td>122</td>\n",
       "      <td>120</td>\n",
       "      <td>80</td>\n",
       "      <td>False</td>\n",
       "    </tr>\n",
       "    <tr>\n",
       "      <th>4</th>\n",
       "      <td>Charmander</td>\n",
       "      <td>Fire</td>\n",
       "      <td>39</td>\n",
       "      <td>52</td>\n",
       "      <td>43</td>\n",
       "      <td>60</td>\n",
       "      <td>50</td>\n",
       "      <td>65</td>\n",
       "      <td>False</td>\n",
       "    </tr>\n",
       "  </tbody>\n",
       "</table>\n",
       "</div>"
      ],
      "text/plain": [
       "            Name Type 1  HP  Attack  Defense  Sp. Atk  Sp. Def  Speed  \\\n",
       "0      Bulbasaur  Grass  45      49       49       65       65     45   \n",
       "1        Ivysaur  Grass  60      62       63       80       80     60   \n",
       "2       Venusaur  Grass  80      82       83      100      100     80   \n",
       "3  Mega Venusaur  Grass  80     100      123      122      120     80   \n",
       "4     Charmander   Fire  39      52       43       60       50     65   \n",
       "\n",
       "   Legendary  \n",
       "0      False  \n",
       "1      False  \n",
       "2      False  \n",
       "3      False  \n",
       "4      False  "
      ]
     },
     "execution_count": 159,
     "metadata": {},
     "output_type": "execute_result"
    }
   ],
   "source": [
    "# Drop three columns we don't use\n",
    "pokemon.drop([\"id\"],inplace=True,axis=1)\n",
    "pokemon.drop([\"Type 2\"],inplace=True,axis=1)\n",
    "pokemon.head()"
   ]
  },
  {
   "cell_type": "code",
   "execution_count": 160,
   "metadata": {},
   "outputs": [
    {
     "data": {
      "text/html": [
       "<div>\n",
       "<style scoped>\n",
       "    .dataframe tbody tr th:only-of-type {\n",
       "        vertical-align: middle;\n",
       "    }\n",
       "\n",
       "    .dataframe tbody tr th {\n",
       "        vertical-align: top;\n",
       "    }\n",
       "\n",
       "    .dataframe thead th {\n",
       "        text-align: right;\n",
       "    }\n",
       "</style>\n",
       "<table border=\"1\" class=\"dataframe\">\n",
       "  <thead>\n",
       "    <tr style=\"text-align: right;\">\n",
       "      <th></th>\n",
       "      <th>Name</th>\n",
       "      <th>Type 1</th>\n",
       "      <th>HP</th>\n",
       "      <th>Attack</th>\n",
       "      <th>Defense</th>\n",
       "      <th>Sp. Atk</th>\n",
       "      <th>Sp. Def</th>\n",
       "      <th>Speed</th>\n",
       "      <th>Legendary</th>\n",
       "      <th>Total</th>\n",
       "    </tr>\n",
       "  </thead>\n",
       "  <tbody>\n",
       "    <tr>\n",
       "      <th>0</th>\n",
       "      <td>Bulbasaur</td>\n",
       "      <td>Grass</td>\n",
       "      <td>45</td>\n",
       "      <td>49</td>\n",
       "      <td>49</td>\n",
       "      <td>65</td>\n",
       "      <td>65</td>\n",
       "      <td>45</td>\n",
       "      <td>False</td>\n",
       "      <td>318</td>\n",
       "    </tr>\n",
       "    <tr>\n",
       "      <th>1</th>\n",
       "      <td>Ivysaur</td>\n",
       "      <td>Grass</td>\n",
       "      <td>60</td>\n",
       "      <td>62</td>\n",
       "      <td>63</td>\n",
       "      <td>80</td>\n",
       "      <td>80</td>\n",
       "      <td>60</td>\n",
       "      <td>False</td>\n",
       "      <td>405</td>\n",
       "    </tr>\n",
       "    <tr>\n",
       "      <th>2</th>\n",
       "      <td>Venusaur</td>\n",
       "      <td>Grass</td>\n",
       "      <td>80</td>\n",
       "      <td>82</td>\n",
       "      <td>83</td>\n",
       "      <td>100</td>\n",
       "      <td>100</td>\n",
       "      <td>80</td>\n",
       "      <td>False</td>\n",
       "      <td>525</td>\n",
       "    </tr>\n",
       "    <tr>\n",
       "      <th>3</th>\n",
       "      <td>Mega Venusaur</td>\n",
       "      <td>Grass</td>\n",
       "      <td>80</td>\n",
       "      <td>100</td>\n",
       "      <td>123</td>\n",
       "      <td>122</td>\n",
       "      <td>120</td>\n",
       "      <td>80</td>\n",
       "      <td>False</td>\n",
       "      <td>625</td>\n",
       "    </tr>\n",
       "    <tr>\n",
       "      <th>4</th>\n",
       "      <td>Charmander</td>\n",
       "      <td>Fire</td>\n",
       "      <td>39</td>\n",
       "      <td>52</td>\n",
       "      <td>43</td>\n",
       "      <td>60</td>\n",
       "      <td>50</td>\n",
       "      <td>65</td>\n",
       "      <td>False</td>\n",
       "      <td>309</td>\n",
       "    </tr>\n",
       "  </tbody>\n",
       "</table>\n",
       "</div>"
      ],
      "text/plain": [
       "            Name Type 1  HP  Attack  Defense  Sp. Atk  Sp. Def  Speed  \\\n",
       "0      Bulbasaur  Grass  45      49       49       65       65     45   \n",
       "1        Ivysaur  Grass  60      62       63       80       80     60   \n",
       "2       Venusaur  Grass  80      82       83      100      100     80   \n",
       "3  Mega Venusaur  Grass  80     100      123      122      120     80   \n",
       "4     Charmander   Fire  39      52       43       60       50     65   \n",
       "\n",
       "   Legendary  Total  \n",
       "0      False    318  \n",
       "1      False    405  \n",
       "2      False    525  \n",
       "3      False    625  \n",
       "4      False    309  "
      ]
     },
     "execution_count": 160,
     "metadata": {},
     "output_type": "execute_result"
    }
   ],
   "source": [
    "# Add one column named \"Total\"\n",
    "pokemon['Total']= pokemon['HP']+pokemon['Attack']+pokemon['Defense']+pokemon['Sp. Atk']+pokemon['Sp. Def']+pokemon['Speed']\n",
    "pokemon.head()"
   ]
  },
  {
   "cell_type": "markdown",
   "metadata": {},
   "source": [
    "## Exploratory Data Analysis"
   ]
  },
  {
   "cell_type": "code",
   "execution_count": 161,
   "metadata": {
    "scrolled": false
   },
   "outputs": [
    {
     "data": {
      "image/png": "[encoded data removed]",
      "text/plain": [
       "<matplotlib.figure.Figure at 0x299a490>"
      ]
     },
     "metadata": {},
     "output_type": "display_data"
    }
   ],
   "source": [
    "# Draw the Type distribution - Bar Chat\n",
    "pokemon1 = pokemon.groupby('Type 1')['Type 1'].count().reset_index(name = 'Count')\n",
    "pokemon1 = pokemon1.sort_values(by = 'Count') #sort type by count\n",
    "# plots is shown below\n",
    "plt.figure(figsize=(12,6))\n",
    "sns.barplot(x=pokemon1['Type 1'], y= pokemon1['Count'])\n",
    "plt.xticks(rotation= 90)\n",
    "plt.xlabel('Type')\n",
    "plt.ylabel('Count')\n",
    "plt.title('Type Distribution')\n",
    "plt.show()"
   ]
  },
  {
   "cell_type": "code",
   "execution_count": 162,
   "metadata": {},
   "outputs": [
    {
     "data": {
      "image/png": "[encoded data removed]",
      "text/plain": [
       "<matplotlib.figure.Figure at 0x10a1e350>"
      ]
     },
     "metadata": {},
     "output_type": "display_data"
    }
   ],
   "source": [
    "# Lets view the proportion by %'s instead\n",
    "plt.figure(figsize=(10,10))\n",
    "labels = pokemon['Type 1'].value_counts().index\n",
    "pokemon['Type 1'].value_counts().plot(kind='pie', labels=labels, autopct='%1.0f%%')\n",
    "plt.show()"
   ]
  },
  {
   "cell_type": "code",
   "execution_count": 163,
   "metadata": {},
   "outputs": [
    {
     "data": {
      "image/png": "[encoded data removed]",
      "text/plain": [
       "<matplotlib.figure.Figure at 0x2ef9b10>"
      ]
     },
     "metadata": {},
     "output_type": "display_data"
    }
   ],
   "source": [
    "# draw the boxplot of total based on different types\n",
    "plt.figure(figsize=(15,8))\n",
    "ax = sns.boxplot(x = 'Type 1', y = 'Total', data = pokemon )\n",
    "plt.show()"
   ]
  },
  {
   "cell_type": "code",
   "execution_count": 164,
   "metadata": {},
   "outputs": [
    {
     "data": {
      "image/png": "[encoded data removed]",
      "text/plain": [
       "<matplotlib.figure.Figure at 0x80e18f0>"
      ]
     },
     "metadata": {},
     "output_type": "display_data"
    }
   ],
   "source": [
    "# compare the legendaries total features with non-legendary ones\n",
    "plt.figure(figsize=(20,8))\n",
    "sns.swarmplot(x='Type 1', y='Total', data=pokemon, hue='Legendary')\n",
    "plt.axhline(pokemon['Total'].mean(), color='red', linestyle='dashed')\n",
    "plt.show()"
   ]
  },
  {
   "cell_type": "code",
   "execution_count": 165,
   "metadata": {},
   "outputs": [
    {
     "data": {
      "image/png": "[encoded data removed]",
      "text/plain": [
       "<matplotlib.figure.Figure at 0xfd7f770>"
      ]
     },
     "metadata": {},
     "output_type": "display_data"
    }
   ],
   "source": [
    "\n",
    "# Correlation\n",
    "pokemon.drop([\"Total\"],inplace=True,axis=1)\n",
    "plt.figure(figsize=(10,6)) #manage the size of the plot\n",
    "sns.heatmap(pokemon.corr(),annot=True) #df.corr() makes a correlation matrix and sns.heatmap is used to show the correlations heatmap\n",
    "plt.show()"
   ]
  },
  {
   "cell_type": "code",
   "execution_count": 166,
   "metadata": {},
   "outputs": [],
   "source": [
    "# Set legendary False = 0, True = 1\n",
    "pokemon['Legendary'] = np.where(pokemon['Legendary'] == True, 1, 0)\n"
   ]
  },
  {
   "cell_type": "markdown",
   "metadata": {},
   "source": [
    "## Preparing our Model"
   ]
  },
  {
   "cell_type": "code",
   "execution_count": 167,
   "metadata": {},
   "outputs": [],
   "source": [
    "# Remove out a random sample of 5% of EACH TYPE of pokemon to be used as the test data\n",
    "type_list = list(pokemon['Type 1'].unique())\n",
    "\n",
    "pokemon_test = pd.DataFrame(columns = pokemon.columns)\n",
    "for i in type_list:\n",
    "    pokemon_test = pokemon_test.append((pokemon[pokemon['Type 1'] == i]).sample(frac=0.05))"
   ]
  },
  {
   "cell_type": "code",
   "execution_count": 168,
   "metadata": {},
   "outputs": [],
   "source": [
    "# Now remove the sample rows from the main dataset\n",
    "pokemon_train = pokemon[~pokemon['Name'].isin(pokemon_test['Name'])]"
   ]
  },
  {
   "cell_type": "code",
   "execution_count": 169,
   "metadata": {},
   "outputs": [],
   "source": [
    "# Standardize and scale our numeric data\n",
    "from sklearn import preprocessing\n",
    "max_abs_scaler = preprocessing.MaxAbsScaler()\n",
    "\n",
    "X_train = max_abs_scaler.fit_transform(pokemon_train.iloc[:,2:8])\n",
    "X_test = max_abs_scaler.fit_transform(pokemon_test.iloc[:,2:8])"
   ]
  },
  {
   "cell_type": "code",
   "execution_count": 170,
   "metadata": {},
   "outputs": [],
   "source": [
    "# Create an arrays for our labels\n",
    "array_train = pokemon_train.values\n",
    "array_test = pokemon_test.values\n",
    "\n",
    "Y_train = array_train[:,1]\n",
    "Y_test = array_test[:,1]"
   ]
  },
  {
   "cell_type": "code",
   "execution_count": 171,
   "metadata": {},
   "outputs": [],
   "source": [
    "# Import Naives Bayes and 10-fold cross validation\n",
    "from sklearn import model_selection\n",
    "\n",
    "# Prepare the kfold model\n",
    "kfold = model_selection.KFold(n_splits=10, shuffle=True)\n",
    "\n",
    "# Leave one out cross validation model\n",
    "loocv = model_selection.LeaveOneOut()"
   ]
  },
  {
   "cell_type": "code",
   "execution_count": 172,
   "metadata": {},
   "outputs": [
    {
     "data": {
      "text/plain": [
       "GaussianNB(priors=None)"
      ]
     },
     "execution_count": 172,
     "metadata": {},
     "output_type": "execute_result"
    }
   ],
   "source": [
    "# Train the Naive Bayes model\n",
    "from sklearn.naive_bayes import GaussianNB\n",
    "gnb = GaussianNB()\n",
    "gnb.fit(X_train, Y_train)"
   ]
  },
  {
   "cell_type": "code",
   "execution_count": 173,
   "metadata": {},
   "outputs": [
    {
     "data": {
      "text/plain": [
       "0.1"
      ]
     },
     "execution_count": 173,
     "metadata": {},
     "output_type": "execute_result"
    }
   ],
   "source": [
    "# Naives Bayes with Kfolds on our Test Data\n",
    "results = model_selection.cross_val_score(gnb, X_test, Y_test, cv=kfold)\n",
    "results.mean()"
   ]
  },
  {
   "cell_type": "code",
   "execution_count": 174,
   "metadata": {},
   "outputs": [
    {
     "data": {
      "text/plain": [
       "0.12195121951219512"
      ]
     },
     "execution_count": 174,
     "metadata": {},
     "output_type": "execute_result"
    }
   ],
   "source": [
    "# Naive Bayes with LOOCV on our Test Data\n",
    "results2 = model_selection.cross_val_score(gnb, X_test, Y_test, cv=loocv)\n",
    "results2.mean()"
   ]
  },
  {
   "cell_type": "code",
   "execution_count": 175,
   "metadata": {},
   "outputs": [],
   "source": [
    "# Import SVM\n",
    "from sklearn.svm import SVC\n",
    "from sklearn import svm\n",
    "estimator = SVC(kernel='linear')\n",
    "\n",
    "# Let us conduct parameter tuning with GridSearchCV to optimize our results\n",
    "from sklearn.model_selection import GridSearchCV"
   ]
  },
  {
   "cell_type": "code",
   "execution_count": 176,
   "metadata": {},
   "outputs": [],
   "source": [
    "# Prep up parameters to tune\n",
    "svm_parameters = [\n",
    "                  {'C': [1, 10, 100, 1000], 'kernel': ['linear']},\n",
    "                  {'C': [1, 10, 100, 1000], 'gamma': [0.001, 0.0001], 'kernel': ['rbf']}\n",
    "                  ]"
   ]
  },
  {
   "cell_type": "code",
   "execution_count": 177,
   "metadata": {},
   "outputs": [
    {
     "data": {
      "text/plain": [
       "GridSearchCV(cv=KFold(n_splits=10, random_state=None, shuffle=True),\n",
       "       error_score='raise',\n",
       "       estimator=SVC(C=1.0, cache_size=200, class_weight=None, coef0=0.0,\n",
       "  decision_function_shape='ovr', degree=3, gamma='auto', kernel='linear',\n",
       "  max_iter=-1, probability=False, random_state=None, shrinking=True,\n",
       "  tol=0.001, verbose=False),\n",
       "       fit_params=None, iid=True, n_jobs=1,\n",
       "       param_grid=[{'C': [1, 10, 100, 1000], 'kernel': ['linear']}, {'C': [1, 10, 100, 1000], 'gamma': [0.001, 0.0001], 'kernel': ['rbf']}],\n",
       "       pre_dispatch='2*n_jobs', refit=True, return_train_score='warn',\n",
       "       scoring=None, verbose=0)"
      ]
     },
     "execution_count": 177,
     "metadata": {},
     "output_type": "execute_result"
    }
   ],
   "source": [
    "# Train our SVM classifier                  \n",
    "svm_classifier = GridSearchCV(estimator=estimator, cv=kfold, param_grid=svm_parameters)\n",
    "svm_classifier.fit(X_train, Y_train)"
   ]
  },
  {
   "cell_type": "code",
   "execution_count": 178,
   "metadata": {},
   "outputs": [
    {
     "name": "stdout",
     "output_type": "stream",
     "text": [
      "Best score for data: 0.24242424242424243\n",
      "Best C: 1000\n",
      "Best Kernel: linear\n",
      "Best Gamma: auto\n"
     ]
    }
   ],
   "source": [
    "# The best parameters with the score:\n",
    "print('Best score for data:', svm_classifier.best_score_)\n",
    "print('Best C:',svm_classifier.best_estimator_.C) \n",
    "print('Best Kernel:',svm_classifier.best_estimator_.kernel)\n",
    "print('Best Gamma:',svm_classifier.best_estimator_.gamma)"
   ]
  },
  {
   "cell_type": "code",
   "execution_count": 179,
   "metadata": {},
   "outputs": [
    {
     "data": {
      "text/plain": [
       "SVC(C=1.0, cache_size=200, class_weight=None, coef0=0.0,\n",
       "  decision_function_shape='ovr', degree=3, gamma='auto', kernel='linear',\n",
       "  max_iter=-1, probability=False, random_state=None, shrinking=True,\n",
       "  tol=0.001, verbose=False)"
      ]
     },
     "execution_count": 179,
     "metadata": {},
     "output_type": "execute_result"
    }
   ],
   "source": [
    "svm_classifier.estimator #estimator svm"
   ]
  },
  {
   "cell_type": "code",
   "execution_count": 180,
   "metadata": {},
   "outputs": [
    {
     "data": {
      "text/plain": [
       "0.2682926829268293"
      ]
     },
     "execution_count": 180,
     "metadata": {},
     "output_type": "execute_result"
    }
   ],
   "source": [
    "# Test our trained SVM classifier with our test data\n",
    "svm_classifier.score(X_test, Y_test)"
   ]
  },
  {
   "cell_type": "code",
   "execution_count": 181,
   "metadata": {},
   "outputs": [],
   "source": [
    "#start random forest\n",
    "from sklearn.ensemble import RandomForestClassifier"
   ]
  },
  {
   "cell_type": "code",
   "execution_count": 182,
   "metadata": {
    "scrolled": true
   },
   "outputs": [
    {
     "data": {
      "text/plain": [
       "RandomForestClassifier(bootstrap=True, class_weight=None, criterion='gini',\n",
       "            max_depth=None, max_features='auto', max_leaf_nodes=None,\n",
       "            min_impurity_decrease=0.0, min_impurity_split=None,\n",
       "            min_samples_leaf=1, min_samples_split=2,\n",
       "            min_weight_fraction_leaf=0.0, n_estimators=10, n_jobs=1,\n",
       "            oob_score=False, random_state=0, verbose=0, warm_start=False)"
      ]
     },
     "execution_count": 182,
     "metadata": {},
     "output_type": "execute_result"
    }
   ],
   "source": [
    "#forest_clf = RandomForestClassifier()\n",
    "forest_clf = RandomForestClassifier(random_state=0)\n",
    "forest_clf.fit(X_train, Y_train)"
   ]
  },
  {
   "cell_type": "code",
   "execution_count": 183,
   "metadata": {},
   "outputs": [
    {
     "name": "stdout",
     "output_type": "stream",
     "text": [
      "Best score for data: 0.16666666666666666\n"
     ]
    }
   ],
   "source": [
    "# train score\n",
    "print('Best score for data:',np.mean(forest_clf.feature_importances_))"
   ]
  },
  {
   "cell_type": "code",
   "execution_count": 184,
   "metadata": {},
   "outputs": [
    {
     "data": {
      "text/plain": [
       "0.17073170731707318"
      ]
     },
     "execution_count": 184,
     "metadata": {},
     "output_type": "execute_result"
    }
   ],
   "source": [
    "from sklearn.model_selection import cross_val_score\n",
    "from sklearn.ensemble import GradientBoostingClassifier\n",
    "forest_clf.score(X_test, Y_test) # test socre\n",
    "#Random Forest Result "
   ]
  },
  {
   "cell_type": "code",
   "execution_count": 185,
   "metadata": {},
   "outputs": [],
   "source": [
    "#KNN classification\n",
    "from sklearn.neighbors import KNeighborsClassifier\n",
    "from sklearn.model_selection import train_test_split"
   ]
  },
  {
   "cell_type": "code",
   "execution_count": 186,
   "metadata": {},
   "outputs": [],
   "source": [
    "knn = KNeighborsClassifier(n_neighbors = 3)\n",
    "x1 = pokemon.loc[:,['HP','Attack','Defense','Speed','Sp. Atk','Sp. Def']]\n",
    "y1 = pokemon.loc[:,'Type 1']\n",
    "x_train, x_test, y_train, y_test = train_test_split(x1, y1, test_size = 0.3)\n",
    "knn.fit(x_train,y_train)\n",
    "prediction = knn.predict(x_test)"
   ]
  },
  {
   "cell_type": "code",
   "execution_count": 187,
   "metadata": {},
   "outputs": [
    {
     "name": "stdout",
     "output_type": "stream",
     "text": [
      "With KNN (K=) accuracy is:  0.17083333333333334\n"
     ]
    }
   ],
   "source": [
    "print('With KNN (K=) accuracy is: ',knn.score(x_test,y_test)) \n",
    "#KNN Result"
   ]
  },
  {
   "cell_type": "markdown",
   "metadata": {
    "collapsed": true
   },
   "source": [
    "## Predicting the Winner of the Combats\n"
   ]
  },
  {
   "cell_type": "markdown",
   "metadata": {},
   "source": [
    "## Loading datasets for Winner Prediction"
   ]
  },
  {
   "cell_type": "code",
   "execution_count": 188,
   "metadata": {},
   "outputs": [],
   "source": [
    "tests = pd.read_csv(\"tests.csv\")\n",
    "combats = pd.read_csv(\"combats.csv\")"
   ]
  },
  {
   "cell_type": "markdown",
   "metadata": {},
   "source": [
    "## Data Preperation"
   ]
  },
  {
   "cell_type": "code",
   "execution_count": 189,
   "metadata": {},
   "outputs": [
    {
     "name": "stdout",
     "output_type": "stream",
     "text": [
      "   First_pokemon  Second_pokemon  Winner\n",
      "0            266             298       1\n",
      "1            702             701       1\n",
      "2            191             668       1\n",
      "3            237             683       1\n",
      "4            151             231       0\n"
     ]
    }
   ],
   "source": [
    "#Changing the Winner with 0 and 1\n",
    "#if winner is first Pokemon then Winner is 0 else 1\n",
    "combats.Winner[combats.Winner == combats.First_pokemon] = 0\n",
    "combats.Winner[combats.Winner == combats.Second_pokemon] = 1\n",
    "\n",
    "print(combats.head(5))"
   ]
  },
  {
   "cell_type": "code",
   "execution_count": 192,
   "metadata": {},
   "outputs": [],
   "source": [
    "#creating Dictonaries for type and stats\n",
    "#Type Dict will have type 1 and type 2 while stats will have the rest of the stats data\n",
    "\n",
    "type_dic = pokemon_df.iloc[:,0:4]\n",
    "type_dic=type_dic.drop(\"Name\", axis=1)\n",
    "type_dic.head()\n",
    "stats_dic = pokemon_df.drop(['Name','Type 1','Type 2'],axis=1)\n",
    "\n",
    "type_dict = type_dic.set_index('id').T.to_dict('list')\n",
    "stats_dict = stats_dic.set_index('id').T.to_dict('list')"
   ]
  },
  {
   "cell_type": "markdown",
   "metadata": {},
   "source": [
    "## Data Engineering"
   ]
  },
  {
   "cell_type": "code",
   "execution_count": 193,
   "metadata": {},
   "outputs": [],
   "source": [
    "#creating a replace function that will map the type and stats of first and second pokemon in their respective Dictionaries\n",
    "def replace(data):\n",
    "    data['First_pokemon_stats'] = data.First_pokemon.map(stats_dict)\n",
    "    data['Second_pokemon_stats']= data.Second_pokemon.map(stats_dict)\n",
    "    \n",
    "    data['First_pokemon'] = data.First_pokemon.map(type_dict)\n",
    "    data['Second_pokemon'] = data.Second_pokemon.map(type_dict)\n",
    "    \n",
    "    \n",
    "    return data"
   ]
  },
  {
   "cell_type": "code",
   "execution_count": 194,
   "metadata": {},
   "outputs": [],
   "source": [
    "#stats_diff function will get the difference in stats of the first and the second pokemon and give us a dataframe consisting of those differences\n",
    "#taking the differnce would reduce the features while taking into account their effectiveness on the dataset\n",
    "def stats_diff(data):\n",
    "        stats_col=[\"HP_diff\",\"Attack_diff\",\"Defense_diff\",'Sp.Atk_diff', 'Sp.Def_diff', 'Speed_diff', 'Legendary_diff']\n",
    "        diff_list=[]\n",
    "    \n",
    "        for row in data.itertuples():\n",
    "            diff_list.append(np.array(row.First_pokemon_stats) - np.array(row.Second_pokemon_stats))\n",
    "        \n",
    "        \n",
    "        stats_df = pd.DataFrame(diff_list, columns=stats_col)\n",
    "        data = pd.concat([data, stats_df], axis=1)\n",
    "        data.drop(['First_pokemon_stats', 'Second_pokemon_stats'], axis=1, inplace=True)\n",
    "        \n",
    "        return data"
   ]
  },
  {
   "cell_type": "code",
   "execution_count": 195,
   "metadata": {},
   "outputs": [],
   "source": [
    "# Dictionaries having effectiveness of different types of pokemon on each other.\n",
    "#created 4 lists based on the types and their effectiveness on each other \n",
    "# the values in the lists starts with 1, if type is found in the very_effective dictionary then the value is multiplied by 2\n",
    "#if value found in not_very_effective then value is divided by 2\n",
    "\n",
    "def effectiveness(data):\n",
    "    \n",
    "    \n",
    "    very_effective_dict = {'Normal': [],\n",
    "                           'Fight': ['Normal', 'Rock', 'Steel', 'Ice', 'Dark'],\n",
    "                           'Flying': ['Fight', 'Bug', 'Grass'],\n",
    "                           'Poison': ['Grass', 'Fairy'],\n",
    "                           'Ground': ['Poison', 'Rock', 'Steel', 'Fire', 'Electric'],\n",
    "                           'Rock': ['Flying', 'Bug', 'Fire', 'Ice'],\n",
    "                           'Bug': ['Grass', 'Psychic', 'Dark'],\n",
    "                           'Ghost': ['Ghost', 'Psychic'],\n",
    "                           'Steel': ['Rock', 'Ice', 'Fairy'],\n",
    "                           'Fire': ['Bug', 'Steel', 'Grass', 'Ice'],\n",
    "                           'Water': ['Ground', 'Rock', 'Fire'],\n",
    "                           'Grass': ['Ground', 'Rock', 'Water'],\n",
    "                           'Electric': ['Flying', 'Water'],\n",
    "                           'Psychic': ['Fight', 'Poison'],\n",
    "                           'Ice': ['Flying', 'Ground', 'Grass', 'Dragon'],\n",
    "                           'Dragon': ['Dragon'],\n",
    "                           'Dark': ['Ghost', 'Psychic'],\n",
    "                           'Fairy': ['Fight', 'Dragon', 'Dark'],\n",
    "                           'None': []}\n",
    "    not_very_effective_dict = {'Normal': ['Rock', 'Steel'],\n",
    "                               'Fight': ['Flying', 'Poison', 'Bug', 'Psychic', 'Fairy'],\n",
    "                               'Flying': ['Rock', 'Steel', 'Electric'],\n",
    "                               'Poison': ['Poison', 'Rock', 'Ground', 'Ghost'],\n",
    "                               'Ground': ['Bug', 'Grass'],\n",
    "                               'Rock': ['Fight', 'Ground', 'Steel'],\n",
    "                               'Bug': ['Fight', 'Flying', 'Poison', 'Ghost', 'Steel', 'Fire', 'Fairy'],\n",
    "                               'Ghost': ['Dark'],\n",
    "                               'Steel': ['Steel', 'Fire', 'Water', 'Electric'],\n",
    "                               'Fire': ['Rock', 'Fire', 'Water', 'Dragon'],\n",
    "                               'Water': ['Water', 'Grass', 'Dragon'],\n",
    "                               'Grass': ['Flying', 'Poison', 'Bug', 'Steel', 'Fire', 'Grass', 'Dragon'],\n",
    "                               'Electric': ['Grass', 'Electric', 'Dragon'],\n",
    "                               'Psychic': ['Steel', 'Psychic'],\n",
    "                               'Ice': ['Steel', 'Fire', 'Water', 'Psychic'],\n",
    "                               'Dragon': ['Steel'],\n",
    "                               'Dark': ['Fight', 'Dark', 'Fairy'],\n",
    "                               'Fairy': ['Posion', 'Steel', 'Fire'],\n",
    "                               'None': []}\n",
    "\n",
    "    \n",
    "    p1_type1=[]\n",
    "    p1_type2=[]\n",
    "    p2_type1=[]\n",
    "    p2_type2=[]\n",
    "    \n",
    "    \n",
    "    for row in data.itertuples():\n",
    "        nested_type =[[1,1], [1,1]]\n",
    "        for i in range (0,2):\n",
    "            for j in range (0,2):\n",
    "                if row.Second_pokemon[j] in very_effective_dict.get(row.First_pokemon[i]):\n",
    "                    nested_type[0][i] *=2\n",
    "                if row.Second_pokemon[j] in not_very_effective_dict.get(row.First_pokemon[i]):\n",
    "                    nested_type[0][i] /=2\n",
    "                \n",
    "                if row.First_pokemon[j] in very_effective_dict.get(row.Second_pokemon[i]):\n",
    "                    nested_type[1][i] *=2\n",
    "                if row.First_pokemon[j] in not_very_effective_dict.get(row.Second_pokemon[i]):\n",
    "                    nested_type[1][i] /=2\n",
    "                \n",
    "                \n",
    "        p1_type1.append(nested_type[0][0])\n",
    "        p1_type2.append(nested_type[0][1])\n",
    "        p2_type1.append(nested_type[1][0])\n",
    "        p2_type2.append(nested_type[1][1])\n",
    "        \n",
    "        \n",
    "    data = data.assign(P1_Type1=p1_type1,P1_Type2=p1_type2,P2_Type1=p2_type1,P2_Type2=p2_type2)\n",
    "        \n",
    "    data = data.drop(['First_pokemon', 'Second_pokemon'], axis=1)\n",
    "\n",
    "    return data"
   ]
  },
  {
   "cell_type": "code",
   "execution_count": 196,
   "metadata": {},
   "outputs": [
    {
     "name": "stdout",
     "output_type": "stream",
     "text": [
      "     First_pokemon   Second_pokemon  Winner  \\\n",
      "0   [Rock, Ground]    [Grass, Dark]       1   \n",
      "1   [Grass, Fight]    [Rock, Fight]       1   \n",
      "2  [Fairy, Flying]  [Psychic, None]       1   \n",
      "3     [Fire, None]   [Dragon, None]       1   \n",
      "4    [Rock, Water]      [Bug, Rock]       0   \n",
      "\n",
      "                 First_pokemon_stats              Second_pokemon_stats  \n",
      "0    [50, 64, 50, 45, 50, 41, False]   [70, 70, 40, 60, 40, 60, False]  \n",
      "1   [91, 90, 72, 90, 129, 108, True]  [91, 129, 90, 72, 90, 108, True]  \n",
      "2   [55, 40, 85, 80, 105, 40, False]  [75, 75, 75, 125, 95, 40, False]  \n",
      "3    [40, 40, 40, 70, 40, 20, False]  [77, 120, 90, 60, 90, 48, False]  \n",
      "4  [70, 60, 125, 115, 70, 55, False]  [20, 10, 230, 10, 230, 5, False]  \n"
     ]
    }
   ],
   "source": [
    "#training the dataset\n",
    "train_df = replace(combats)\n",
    "print(train_df.head(5))"
   ]
  },
  {
   "cell_type": "code",
   "execution_count": 197,
   "metadata": {},
   "outputs": [
    {
     "name": "stdout",
     "output_type": "stream",
     "text": [
      "     First_pokemon   Second_pokemon  Winner  HP_diff  Attack_diff  \\\n",
      "0   [Rock, Ground]    [Grass, Dark]       1      -20           -6   \n",
      "1   [Grass, Fight]    [Rock, Fight]       1        0          -39   \n",
      "2  [Fairy, Flying]  [Psychic, None]       1      -20          -35   \n",
      "3     [Fire, None]   [Dragon, None]       1      -37          -80   \n",
      "4    [Rock, Water]      [Bug, Rock]       0       50           50   \n",
      "\n",
      "   Defense_diff  Sp.Atk_diff  Sp.Def_diff  Speed_diff  Legendary_diff  \n",
      "0            10          -15           10         -19               0  \n",
      "1           -18           18           39           0               0  \n",
      "2            10          -45           10           0               0  \n",
      "3           -50           10          -50         -28               0  \n",
      "4          -105          105         -160          50               0  \n"
     ]
    }
   ],
   "source": [
    "# called the stats_diff function that gives us the difference\n",
    "train_df = stats_diff(train_df)\n",
    "print(train_df.head(5))"
   ]
  },
  {
   "cell_type": "code",
   "execution_count": 198,
   "metadata": {},
   "outputs": [
    {
     "name": "stdout",
     "output_type": "stream",
     "text": [
      "   Winner  HP_diff  Attack_diff  Defense_diff  Sp.Atk_diff  Sp.Def_diff  \\\n",
      "0       1      -20           -6            10          -15           10   \n",
      "1       1        0          -39           -18           18           39   \n",
      "2       1      -20          -35            10          -45           10   \n",
      "3       1      -37          -80           -50           10          -50   \n",
      "4       0       50           50          -105          105         -160   \n",
      "\n",
      "   Speed_diff  Legendary_diff  P1_Type1  P1_Type2  P2_Type1  P2_Type2  \n",
      "0         -19               0       1.0       0.5       4.0       1.0  \n",
      "1           0               0       2.0       2.0       0.5       1.0  \n",
      "2           0               0       1.0       1.0       1.0       1.0  \n",
      "3         -28               0       0.5       1.0       1.0       1.0  \n",
      "4          50               0       2.0       2.0       1.0       1.0  \n"
     ]
    }
   ],
   "source": [
    "#called effectiveness function \n",
    "train_df = effectiveness(train_df)\n",
    "print(train_df.head(5))"
   ]
  },
  {
   "cell_type": "code",
   "execution_count": 199,
   "metadata": {},
   "outputs": [],
   "source": [
    "#Did test train split \n",
    "from sklearn.model_selection import train_test_split\n",
    "\n",
    "y_train_full = train_df['Winner']\n",
    "x_train_full = train_df.drop('Winner', axis=1)\n",
    "\n",
    "from sklearn.model_selection import train_test_split\n",
    "x_train, x_cv, y_train, y_cv = train_test_split(x_train_full, y_train_full, test_size=0.25, random_state=42)"
   ]
  },
  {
   "cell_type": "markdown",
   "metadata": {},
   "source": [
    "## Creating Models to Predict \n",
    "Model would be selected based on the accuracy of the model"
   ]
  },
  {
   "cell_type": "code",
   "execution_count": 201,
   "metadata": {},
   "outputs": [
    {
     "name": "stdout",
     "output_type": "stream",
     "text": [
      "Accuracy of log reg: 0.88344\n",
      "Accuracy of naive bayes: 0.80776\n",
      "Accuracy of random forest: 0.95312\n",
      "Accuracy of knn: 0.90376\n",
      "Accuracy of gradient boosting: 0.94848\n",
      "Accuracy of Decision Tree: 0.9172\n"
     ]
    }
   ],
   "source": [
    "# Creating the Modelling and predicting the winner\n",
    "from sklearn.metrics import accuracy_score\n",
    "from sklearn.linear_model import LogisticRegression\n",
    "from sklearn.naive_bayes import GaussianNB\n",
    "from sklearn.ensemble import RandomForestClassifier, GradientBoostingClassifier\n",
    "from sklearn.neighbors import KNeighborsClassifier\n",
    "from sklearn.tree import DecisionTreeClassifier\n",
    "\n",
    "clf_dict = {'log reg': LogisticRegression(), \n",
    "            'naive bayes': GaussianNB(), \n",
    "            'random forest': RandomForestClassifier(n_estimators=100),\n",
    "            'knn': KNeighborsClassifier(),\n",
    "            'gradient boosting': GradientBoostingClassifier(n_estimators=100),\n",
    "            'Decision Tree': DecisionTreeClassifier()}\n",
    "\n",
    "for name, clf in clf_dict.items():\n",
    "    model = clf.fit(x_train, y_train)\n",
    "    pred = model.predict(x_cv)\n",
    "    print('Accuracy of {}:'.format(name), accuracy_score(pred, y_cv))"
   ]
  },
  {
   "cell_type": "markdown",
   "metadata": {},
   "source": [
    "## Predicting the Winner"
   ]
  },
  {
   "cell_type": "code",
   "execution_count": 202,
   "metadata": {},
   "outputs": [
    {
     "name": "stdout",
     "output_type": "stream",
     "text": [
      "   HP_diff  Attack_diff  Defense_diff  Sp.Atk_diff  Sp.Def_diff  Speed_diff  \\\n",
      "0      -10           37           -10            5            5          38   \n",
      "1      -21            9            46          -11           51         -15   \n",
      "2       29          -15            17          110          -30          14   \n",
      "3       -5          -31           -12          -26           -7         -15   \n",
      "4     -125          -15           -50           -9          -14           5   \n",
      "\n",
      "   Legendary_diff  P1_Type1  P1_Type2  P2_Type1  P2_Type2  \n",
      "0               0       1.0       1.0       1.0       1.0  \n",
      "1               0       4.0       0.5       0.5       1.0  \n",
      "2               1       1.0       2.0       0.5       1.0  \n",
      "3               0       0.5       1.0       1.0       1.0  \n",
      "4               0       1.0       1.0       1.0       1.0  \n",
      "      First_pokemon  Second_pokemon  Winner\n",
      "0               129             117     129\n",
      "1               660             211     211\n",
      "2               706             115     706\n",
      "3               195             618     618\n",
      "4                27             656      27\n",
      "5               126             222     126\n",
      "6               436             207     436\n",
      "7               121              36      36\n",
      "8               169             636     169\n",
      "9               302             688     302\n",
      "10               39             380     380\n",
      "11               11             292      11\n",
      "12              228             747     747\n",
      "13              302             763     302\n",
      "14              455             436     436\n",
      "15              381              14      14\n",
      "16              205             710     205\n",
      "17               86             639     639\n",
      "18              128             681     681\n",
      "19              565             570     570\n",
      "20              496             448     448\n",
      "21               36             378      36\n",
      "22              518             284     518\n",
      "23               97             376     376\n",
      "24              690             542     542\n",
      "25              669             482     482\n",
      "26              164              15     164\n",
      "27              521             773     773\n",
      "28              260             107     260\n",
      "29              524             140     524\n",
      "...             ...             ...     ...\n",
      "9970            534             123     534\n",
      "9971            310             551     551\n",
      "9972            475             530     475\n",
      "9973            212             145     212\n",
      "9974            752             112     752\n",
      "9975            626             432     432\n",
      "9976            332             794     794\n",
      "9977            224             734     224\n",
      "9978            277             356     277\n",
      "9979            418             110     110\n",
      "9980            732             188     732\n",
      "9981             84             617      84\n",
      "9982            429             175     429\n",
      "9983            295             177     177\n",
      "9984            194             336     336\n",
      "9985            119             296     296\n",
      "9986            644             107     107\n",
      "9987            242             231     242\n",
      "9988            358             777     777\n",
      "9989            154             761     154\n",
      "9990            743             347     347\n",
      "9991            650             635     635\n",
      "9992            503             210     503\n",
      "9993             86              64      64\n",
      "9994            194             604     604\n",
      "9995            216             498     498\n",
      "9996            113             404     404\n",
      "9997            493             104     493\n",
      "9998            643             259     643\n",
      "9999            678             531     531\n",
      "\n",
      "[10000 rows x 3 columns]\n"
     ]
    }
   ],
   "source": [
    "#Found that Random forest fits well and used it to predict the tests dataset\n",
    "prediction_df = tests.copy()\n",
    "test_df = replace(tests)\n",
    "test_df = stats_diff(test_df)\n",
    "test_df = effectiveness(test_df)\n",
    "print(test_df.head())\n",
    "\n",
    "classifier = RandomForestClassifier(n_estimators=100)\n",
    "model = classifier.fit(x_train_full, y_train_full)\n",
    "prediction = model.predict(test_df)\n",
    "\n",
    "#prediction_df is created at the very beginning, it's the same thing as test_df before it's changed.\n",
    "prediction_df['Winner'] = prediction\n",
    "prediction_df['Winner'][prediction_df['Winner'] == 0] = prediction_df['First_pokemon']\n",
    "prediction_df['Winner'][prediction_df['Winner'] == 1] = prediction_df['Second_pokemon']\n",
    "print(prediction_df)"
   ]
  }
 ],
 "metadata": {
  "kernelspec": {
   "display_name": "Python 3",
   "language": "python",
   "name": "python3"
  },
  "language_info": {
   "codemirror_mode": {
    "name": "ipython",
    "version": 3
   },
   "file_extension": ".py",
   "mimetype": "text/x-python",
   "name": "python",
   "nbconvert_exporter": "python",
   "pygments_lexer": "ipython3",
   "version": "3.6.4"
  }
 },
 "nbformat": 4,
 "nbformat_minor": 2
}
